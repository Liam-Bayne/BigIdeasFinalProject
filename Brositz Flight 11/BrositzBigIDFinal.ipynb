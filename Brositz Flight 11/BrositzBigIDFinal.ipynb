{
 "cells": [
  {
   "cell_type": "markdown",
   "id": "3d4004dd-65ad-4ead-b705-be4473208418",
   "metadata": {},
   "source": [
    "Introduction: Introduce the project, and your approach, talk about the process of how you came up with the metric and some alternatives you may have explored.\r\n",
    "\n",
    "The Metric: Describe your metric, and what features are you measuring. What datasets are you using?\n",
    "\r\n",
    "The Best Neighborhood: Apply the metric from the previous section to determine the best neighborhood in Pittsburgh. Beyond just executing code, provide a narrative about why you think this is the best neighborhood. Incorporate a data visualization, perhaps to rank all of the neighborhoods or show a neighborhood’s best-ness over time. The key is to make a data driven argument\n",
    ".\r\n",
    "Conclusion: Reflect on how the data-driven determination of “best neighborhood” is the same or different from your personal favorite neighborhood. Each member of the group should write their own response to this."
   ]
  },
  {
   "cell_type": "markdown",
   "id": "2b957ce5-e974-4a3b-a430-10c61627e185",
   "metadata": {},
   "source": [
    "*Introduction*\n",
    "\n",
    "This project is meant to explain which neighborhood is the best in the City of Pittsburgh. We want to examine the overall quality of life in each neighborhood \n",
    "\n",
    "*My Metric*\n",
    "The metric I will be using is based on health data that has been collected. While there are many aspects to health, I chose to focus on air quality/trees because..."
   ]
  },
  {
   "cell_type": "code",
   "execution_count": null,
   "id": "fa27e0db-8e9d-45c6-a1df-3a771925ea82",
   "metadata": {},
   "outputs": [],
   "source": [
    "#start by inserting CSV file"
   ]
  }
 ],
 "metadata": {
  "kernelspec": {
   "display_name": "Python [conda env:root] *",
   "language": "python",
   "name": "conda-root-py"
  },
  "language_info": {
   "codemirror_mode": {
    "name": "ipython",
    "version": 3
   },
   "file_extension": ".py",
   "mimetype": "text/x-python",
   "name": "python",
   "nbconvert_exporter": "python",
   "pygments_lexer": "ipython3",
   "version": "3.11.5"
  }
 },
 "nbformat": 4,
 "nbformat_minor": 5
}
